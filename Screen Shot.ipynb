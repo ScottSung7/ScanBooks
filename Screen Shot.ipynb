{
 "cells": [
  {
   "cell_type": "code",
   "execution_count": 74,
   "id": "4e20dd54",
   "metadata": {},
   "outputs": [],
   "source": [
    "import pyautogui as p\n",
    "import pyscreeze\n",
    "import PIL\n",
    "from PIL import ImageGrab\n",
    "from PIL import Image\n",
    "import os\n",
    "\n",
    "__PIL_TUPLE_VERSION = tuple(int(x) for x in PIL.__version__.split(\".\"))\n",
    "pyscreeze.PIL__version__ = __PIL_TUPLE_VERSION\n",
    "\n",
    "\n",
    "def folderPathFromDesktop(name):\n",
    "        desktopPath = \"/Users/sungscott/Desktop/\"\n",
    "        capturePath = os.path.join(desktopPath, \"Books\")\n",
    "        if os.path.exists(capturePath):\n",
    "            pass \n",
    "        else:\n",
    "            os.mkdir(capturePath)\n",
    "        return os.path.join(capturePath, name)\n",
    "def bookNameSetting(name):\n",
    "    dest = folderPathFromDesktop(name)\n",
    "    print('경로: '+ dest)\n",
    "def start():\n",
    "    p.click()\n",
    "def nextPage():\n",
    "    p.press('right');\n",
    "def capture(name):\n",
    "    bbox = (578, 3, 1468, 1149)  # 캡처할 영역을 지정합니다. (좌상단 x, 좌상단 y, 우하단 x, 우하단 y)\n",
    "    screenshot = ImageGrab.grab(bbox)\n",
    "    screenshot.save(dest + str(name) + \".png\", \"PNG\")\n",
    "def captureBook(totalPage):\n",
    "    start()\n",
    "    capture(1)\n",
    "    for i in range(totalPage-1):\n",
    "        pageNum = i + 2\n",
    "        nextPage()\n",
    "        capture(pageNum)\n",
    "def pdfConvert(totalPage, dpi):\n",
    "    for i in range(totalPage):\n",
    "        file_num = str(i + 1)\n",
    "        img = Image.open(dest1 + file_num + '.png')\n",
    "        width, height = img.size\n",
    "\n",
    "        # 원하는 DPI 설정 (예: 300 DPI)\n",
    "        desired_dpi = dpi\n",
    "        \n",
    "        # DPI 설정을 변경하면서 이미지 크기 조절\n",
    "        img = img.resize((int(width * desired_dpi / 72), int(height * desired_dpi / 72)))\n",
    "\n",
    "        # PDF 파일로 저장\n",
    "        pdfPath = os.path.join(dest, \"pdf\")\n",
    "        if os.path.exists(pdfPath):\n",
    "            pass \n",
    "        else:\n",
    "            os.mkdir(pdfPath)\n",
    "        img.save(dest + \"/pdf/\" + file_num + '.pdf', \"PDF\", resolution=desired_dpi, save_all=True, quality=100)"
   ]
  },
  {
   "cell_type": "code",
   "execution_count": 75,
   "id": "34f8a568",
   "metadata": {},
   "outputs": [
    {
     "name": "stdout",
     "output_type": "stream",
     "text": [
      "경로: /Users/sungscott/Desktop/Books/도메인 주도 개발 시작하기\n"
     ]
    }
   ],
   "source": [
    "#교보 ebook전체 화면으로 만들고 bbox설정 후에 캡쳐 시작.\n",
    "bookNameSetting('도메인 주도 개발 시작하기')"
   ]
  },
  {
   "cell_type": "code",
   "execution_count": null,
   "id": "2796e6d8",
   "metadata": {},
   "outputs": [],
   "source": [
    "#Capture\n",
    "captureBook(1)"
   ]
  },
  {
   "cell_type": "code",
   "execution_count": 64,
   "id": "00ea6126",
   "metadata": {},
   "outputs": [],
   "source": [
    "pdfConvert(2, 300)"
   ]
  },
  {
   "cell_type": "code",
   "execution_count": null,
   "id": "3663e8a4",
   "metadata": {},
   "outputs": [],
   "source": []
  },
  {
   "cell_type": "code",
   "execution_count": null,
   "id": "3e2ef8d1",
   "metadata": {},
   "outputs": [],
   "source": []
  },
  {
   "cell_type": "code",
   "execution_count": null,
   "id": "f7f42dc8",
   "metadata": {},
   "outputs": [],
   "source": []
  },
  {
   "cell_type": "code",
   "execution_count": null,
   "id": "e536bc43",
   "metadata": {},
   "outputs": [],
   "source": []
  }
 ],
 "metadata": {
  "kernelspec": {
   "display_name": "Python 3 (ipykernel)",
   "language": "python",
   "name": "python3"
  },
  "language_info": {
   "codemirror_mode": {
    "name": "ipython",
    "version": 3
   },
   "file_extension": ".py",
   "mimetype": "text/x-python",
   "name": "python",
   "nbconvert_exporter": "python",
   "pygments_lexer": "ipython3",
   "version": "3.9.7"
  }
 },
 "nbformat": 4,
 "nbformat_minor": 5
}
